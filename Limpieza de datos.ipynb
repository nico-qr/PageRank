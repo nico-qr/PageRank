{
 "cells": [
  {
   "cell_type": "markdown",
   "id": "28f9b19d",
   "metadata": {},
   "source": [
    "# Limpieza de una base de datos\n",
    "\n",
    "Consideramos la base de datos *https://www.aminer.org/citation* con 629814 papers (Citation-Network V1)\n",
    "Trabajamos con un documento txt cuyas entradas tienen la siguiente estructura: \n",
    "\n",
    "<ul>\n",
    "<li>#* --- paperTitle</li>\n",
    "<li>#@ --- Authors</li>\n",
    "<li>#t ---- Year</li>\n",
    "<li>#c  --- publication venue</li>\n",
    "<li>#index 00---- index id of this paper</li>\n",
    "<li>#% ---- the id of references of this paper (there are multiple lines, with each indicating a reference)</li>\n",
    "<li>#! --- Abstract</li>\n",
    "</ul>\n",
    "\n",
    "Para ello leemos el documento con las funciones integradas de Python y separamos los bloques de cada documento considerando que en el texto están separados por un espacio. Después iteramos sobre cada bloque y creamos un diccionario usando el número de paper y las citas a las que hace referencia.\n",
    "\n",
    "\n",
    "I1\n",
    "\n"
   ]
  },
  {
   "cell_type": "code",
   "execution_count": 101,
   "id": "ad4246ff",
   "metadata": {},
   "outputs": [],
   "source": [
    "#Abrimos el documento\n",
    "with open('outputacm.txt', encoding='utf-8') as f:\n",
    "    info = f.readlines()"
   ]
  },
  {
   "cell_type": "code",
   "execution_count": 106,
   "id": "30971780",
   "metadata": {},
   "outputs": [],
   "source": [
    "#Función para encontrar las posiciones de los separadores\n",
    "def list_duplicates_of(seq,item):\n",
    "    start_at = -1\n",
    "    locs = [0] #Considerando el primer separador como el de la posición 0\n",
    "    while True:\n",
    "        try:\n",
    "            loc = seq.index(item,start_at+1)\n",
    "        except ValueError:\n",
    "            break\n",
    "        else:\n",
    "            locs.append(loc)\n",
    "            start_at = loc\n",
    "    return locs\n",
    "\n",
    "source = info\n",
    "indices = list_duplicates_of(source, '\\n')"
   ]
  },
  {
   "cell_type": "code",
   "execution_count": 107,
   "id": "53d28405",
   "metadata": {},
   "outputs": [
    {
     "name": "stdout",
     "output_type": "stream",
     "text": [
      "[0, 6, 12, 19, 26, 32, 40, 46, 53, 59]\n"
     ]
    }
   ],
   "source": [
    "#Muestra de los primeros 10 separadores y su número de línea\n",
    "print(indices[0:10])"
   ]
  },
  {
   "cell_type": "code",
   "execution_count": 108,
   "id": "2a8b4f30",
   "metadata": {},
   "outputs": [],
   "source": [
    "#Obtención de las entradas\n",
    "\n",
    "entradas = [] #Lista para almacenarlas\n",
    "\n",
    "for i in range(len(indices)-1): #Se rebana la lista de líneas del texto con base en los separadores\n",
    "    parrafo = info[indices[i]:indices[i+1]]\n",
    "    entradas.append(parrafo) #La entrada (en forma de lista) se añade a la lista de entradas"
   ]
  },
  {
   "cell_type": "code",
   "execution_count": 109,
   "id": "433db3ab",
   "metadata": {},
   "outputs": [],
   "source": [
    "#Citas de los documentos\n",
    "citas = [] #Lista para guardarlas\n",
    "ct = 0 #Contador de la entrada con la que estamos trabajando\n",
    "\n",
    "for entry in entradas:\n",
    "    tem = [ct] #El primer elemento de la lista es la entrada con la que se está trabajando. Lista temporal x entrada\n",
    "    for linea in entry:\n",
    "        if len(linea)>=2: #Condicional para no crashear con el separador\n",
    "            if linea[1] == \"%\": #Si la línea corresponde a una cita (según la definición del documento)\n",
    "                tem.append(int(linea[2:7])) #Se añade a la lista\n",
    "            else:\n",
    "                continue\n",
    "        else:\n",
    "            continue\n",
    "    citas.append(tem) #Añadimos las citas del documento\n",
    "    ct += 1 #Sube el contador del documento"
   ]
  },
  {
   "cell_type": "code",
   "execution_count": 112,
   "id": "39fadd21",
   "metadata": {},
   "outputs": [],
   "source": [
    "#Diccionario para guardar la información\n",
    "diccio = {}"
   ]
  },
  {
   "cell_type": "code",
   "execution_count": 114,
   "id": "8ba8b760",
   "metadata": {},
   "outputs": [],
   "source": [
    "for i in citas:\n",
    "    if len(i) == 1:\n",
    "        diccio.update({i[0]: None})\n",
    "    else:\n",
    "        diccio.update({i[0]: tuple(i[1:])})"
   ]
  },
  {
   "cell_type": "markdown",
   "id": "261c1489",
   "metadata": {},
   "source": [
    "# Exportación de la información\n",
    "\n",
    "Guardamos la información obtenida en un archivo csv"
   ]
  },
  {
   "cell_type": "code",
   "execution_count": 117,
   "id": "cea49572",
   "metadata": {},
   "outputs": [],
   "source": [
    "import pickle"
   ]
  },
  {
   "cell_type": "code",
   "execution_count": 118,
   "id": "7149ff5f",
   "metadata": {},
   "outputs": [],
   "source": [
    "with open(\"datos_save.pk1\", \"wb\") as f:\n",
    "    pickle.dump(diccio, f)"
   ]
  }
 ],
 "metadata": {
  "kernelspec": {
   "display_name": "Python 3 (ipykernel)",
   "language": "python",
   "name": "python3"
  },
  "language_info": {
   "codemirror_mode": {
    "name": "ipython",
    "version": 3
   },
   "file_extension": ".py",
   "mimetype": "text/x-python",
   "name": "python",
   "nbconvert_exporter": "python",
   "pygments_lexer": "ipython3",
   "version": "3.9.13"
  }
 },
 "nbformat": 4,
 "nbformat_minor": 5
}
